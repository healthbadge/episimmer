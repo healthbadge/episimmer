{
 "cells": [
  {
   "cell_type": "markdown",
   "metadata": {
    "id": "F4ee-jETXljo"
   },
   "source": [
    "# Welcome to Tutorial 5!\n",
    "\n",
    "\n",
    "---\n",
    "\n",
    "####  **This tutorial shall explore Vulnerability Detection in [Episimmer](https://github.com/healthbadge/episimmer/tree/master).**\n",
    "\n"
   ]
  },
  {
   "cell_type": "markdown",
   "metadata": {
    "id": "OkYjysMtd6IZ"
   },
   "source": [
    "##### Let us perform some initialization first. "
   ]
  },
  {
   "cell_type": "code",
   "execution_count": 3,
   "metadata": {
    "colab": {
     "base_uri": "https://localhost:8080/",
     "height": 0
    },
    "id": "Sgb40Ia_d_By",
    "outputId": "97e449e6-fabc-44ce-cc82-ceaa7420fe41"
   },
   "outputs": [
    {
     "name": "stdout",
     "output_type": "stream",
     "text": [
      "Collecting episimmer\n",
      "  Downloading episimmer-2.2.1-py3-none-any.whl (64 kB)\n",
      "\u001b[K     |████████████████████████████████| 64 kB 2.1 MB/s \n",
      "\u001b[?25hCollecting networkx==2.6.3\n",
      "  Downloading networkx-2.6.3-py3-none-any.whl (1.9 MB)\n",
      "\u001b[K     |████████████████████████████████| 1.9 MB 11.1 MB/s \n",
      "\u001b[?25hCollecting scipy==1.7.3\n",
      "  Downloading scipy-1.7.3-cp37-cp37m-manylinux_2_12_x86_64.manylinux2010_x86_64.whl (38.1 MB)\n",
      "\u001b[K     |████████████████████████████████| 38.1 MB 1.1 MB/s \n",
      "\u001b[?25hCollecting pyvis==0.1.9\n",
      "  Downloading pyvis-0.1.9-py3-none-any.whl (23 kB)\n",
      "Collecting matplotlib==3.4.2\n",
      "  Downloading matplotlib-3.4.2-cp37-cp37m-manylinux1_x86_64.whl (10.3 MB)\n",
      "\u001b[K     |████████████████████████████████| 10.3 MB 43.3 MB/s \n",
      "\u001b[?25hCollecting numpy==1.21.0\n",
      "  Downloading numpy-1.21.0-cp37-cp37m-manylinux_2_12_x86_64.manylinux2010_x86_64.whl (15.7 MB)\n",
      "\u001b[K     |████████████████████████████████| 15.7 MB 32.0 MB/s \n",
      "\u001b[?25hCollecting pillow>=6.2.0\n",
      "  Downloading Pillow-9.1.0-cp37-cp37m-manylinux_2_17_x86_64.manylinux2014_x86_64.whl (4.3 MB)\n",
      "\u001b[K     |████████████████████████████████| 4.3 MB 42.8 MB/s \n",
      "\u001b[?25hCollecting python-dateutil>=2.7\n",
      "  Downloading python_dateutil-2.8.2-py2.py3-none-any.whl (247 kB)\n",
      "\u001b[K     |████████████████████████████████| 247 kB 66.5 MB/s \n",
      "\u001b[?25hCollecting kiwisolver>=1.0.1\n",
      "  Downloading kiwisolver-1.4.2-cp37-cp37m-manylinux_2_5_x86_64.manylinux1_x86_64.whl (1.1 MB)\n",
      "\u001b[K     |████████████████████████████████| 1.1 MB 55.7 MB/s \n",
      "\u001b[?25hCollecting cycler>=0.10\n",
      "  Downloading cycler-0.11.0-py3-none-any.whl (6.4 kB)\n",
      "Collecting pyparsing>=2.2.1\n",
      "  Downloading pyparsing-3.0.8-py3-none-any.whl (98 kB)\n",
      "\u001b[K     |████████████████████████████████| 98 kB 9.2 MB/s \n",
      "\u001b[?25hCollecting jinja2>=2.9.6\n",
      "  Downloading Jinja2-3.1.1-py3-none-any.whl (132 kB)\n",
      "\u001b[K     |████████████████████████████████| 132 kB 50.9 MB/s \n",
      "\u001b[?25hCollecting jsonpickle>=1.4.1\n",
      "  Downloading jsonpickle-2.1.0-py2.py3-none-any.whl (38 kB)\n",
      "Collecting ipython>=5.3.0\n",
      "  Downloading ipython-7.32.0-py3-none-any.whl (793 kB)\n",
      "\u001b[K     |████████████████████████████████| 793 kB 60.8 MB/s \n",
      "\u001b[?25hCollecting prompt-toolkit!=3.0.0,!=3.0.1,<3.1.0,>=2.0.0\n",
      "  Downloading prompt_toolkit-3.0.29-py3-none-any.whl (381 kB)\n",
      "\u001b[K     |████████████████████████████████| 381 kB 64.5 MB/s \n",
      "\u001b[?25hCollecting decorator\n",
      "  Downloading decorator-5.1.1-py3-none-any.whl (9.1 kB)\n",
      "Requirement already satisfied: setuptools>=18.5 in /usr/local/lib/python3.7/site-packages (from ipython>=5.3.0->pyvis==0.1.9->episimmer) (61.2.0)\n",
      "Collecting matplotlib-inline\n",
      "  Downloading matplotlib_inline-0.1.3-py3-none-any.whl (8.2 kB)\n",
      "Collecting pygments\n",
      "  Downloading Pygments-2.12.0-py3-none-any.whl (1.1 MB)\n",
      "\u001b[K     |████████████████████████████████| 1.1 MB 48.8 MB/s \n",
      "\u001b[?25hCollecting pickleshare\n",
      "  Downloading pickleshare-0.7.5-py2.py3-none-any.whl (6.9 kB)\n",
      "Collecting jedi>=0.16\n",
      "  Downloading jedi-0.18.1-py2.py3-none-any.whl (1.6 MB)\n",
      "\u001b[K     |████████████████████████████████| 1.6 MB 29.8 MB/s \n",
      "\u001b[?25hCollecting backcall\n",
      "  Downloading backcall-0.2.0-py2.py3-none-any.whl (11 kB)\n",
      "Collecting traitlets>=4.2\n",
      "  Downloading traitlets-5.1.1-py3-none-any.whl (102 kB)\n",
      "\u001b[K     |████████████████████████████████| 102 kB 13.1 MB/s \n",
      "\u001b[?25hCollecting pexpect>4.3\n",
      "  Downloading pexpect-4.8.0-py2.py3-none-any.whl (59 kB)\n",
      "\u001b[K     |████████████████████████████████| 59 kB 7.4 MB/s \n",
      "\u001b[?25hCollecting parso<0.9.0,>=0.8.0\n",
      "  Downloading parso-0.8.3-py2.py3-none-any.whl (100 kB)\n",
      "\u001b[K     |████████████████████████████████| 100 kB 10.6 MB/s \n",
      "\u001b[?25hCollecting MarkupSafe>=2.0\n",
      "  Downloading MarkupSafe-2.1.1-cp37-cp37m-manylinux_2_17_x86_64.manylinux2014_x86_64.whl (25 kB)\n",
      "Collecting importlib-metadata\n",
      "  Downloading importlib_metadata-4.11.3-py3-none-any.whl (18 kB)\n",
      "Collecting typing-extensions\n",
      "  Downloading typing_extensions-4.2.0-py3-none-any.whl (24 kB)\n",
      "Collecting ptyprocess>=0.5\n",
      "  Downloading ptyprocess-0.7.0-py2.py3-none-any.whl (13 kB)\n",
      "Collecting wcwidth\n",
      "  Downloading wcwidth-0.2.5-py2.py3-none-any.whl (30 kB)\n",
      "Collecting six>=1.5\n",
      "  Downloading six-1.16.0-py2.py3-none-any.whl (11 kB)\n",
      "Collecting zipp>=0.5\n",
      "  Downloading zipp-3.8.0-py3-none-any.whl (5.4 kB)\n",
      "Installing collected packages: zipp, wcwidth, typing-extensions, traitlets, ptyprocess, parso, six, pygments, prompt-toolkit, pickleshare, pexpect, matplotlib-inline, MarkupSafe, jedi, importlib-metadata, decorator, backcall, python-dateutil, pyparsing, pillow, numpy, networkx, kiwisolver, jsonpickle, jinja2, ipython, cycler, scipy, pyvis, matplotlib, episimmer\n",
      "Successfully installed MarkupSafe-2.1.1 backcall-0.2.0 cycler-0.11.0 decorator-5.1.1 episimmer-2.2.1 importlib-metadata-4.11.3 ipython-7.32.0 jedi-0.18.1 jinja2-3.1.1 jsonpickle-2.1.0 kiwisolver-1.4.2 matplotlib-3.4.2 matplotlib-inline-0.1.3 networkx-2.6.3 numpy-1.21.0 parso-0.8.3 pexpect-4.8.0 pickleshare-0.7.5 pillow-9.1.0 prompt-toolkit-3.0.29 ptyprocess-0.7.0 pygments-2.12.0 pyparsing-3.0.8 python-dateutil-2.8.2 pyvis-0.1.9 scipy-1.7.3 six-1.16.0 traitlets-5.1.1 typing-extensions-4.2.0 wcwidth-0.2.5 zipp-3.8.0\n",
      "\u001b[33mWARNING: Running pip as the 'root' user can result in broken permissions and conflicting behaviour with the system package manager. It is recommended to use a virtual environment instead: https://pip.pypa.io/warnings/venv\u001b[0m\n"
     ]
    },
    {
     "data": {
      "application/vnd.colab-display-data+json": {
       "pip_warning": {
        "packages": [
         "cycler",
         "dateutil",
         "kiwisolver",
         "pexpect",
         "pickleshare",
         "traitlets",
         "wcwidth"
        ]
       }
      }
     },
     "metadata": {},
     "output_type": "display_data"
    },
    {
     "name": "stdout",
     "output_type": "stream",
     "text": [
      "Cloning into 'episimmer'...\n",
      "remote: Enumerating objects: 6497, done.\u001b[K\n",
      "remote: Counting objects: 100% (73/73), done.\u001b[K\n",
      "remote: Compressing objects: 100% (53/53), done.\u001b[K\n",
      "remote: Total 6497 (delta 37), reused 41 (delta 16), pack-reused 6424\u001b[K\n",
      "Receiving objects: 100% (6497/6497), 49.40 MiB | 35.65 MiB/s, done.\n",
      "Resolving deltas: 100% (4406/4406), done.\n",
      "/content/episimmer\n",
      "Collecting ipykernel\n",
      "  Downloading ipykernel-6.13.0-py3-none-any.whl (131 kB)\n",
      "\u001b[K     |████████████████████████████████| 131 kB 5.2 MB/s \n",
      "\u001b[?25hCollecting jupyter-client>=6.1.12\n",
      "  Downloading jupyter_client-7.2.2-py3-none-any.whl (130 kB)\n",
      "\u001b[K     |████████████████████████████████| 130 kB 46.4 MB/s \n",
      "\u001b[?25hCollecting debugpy>=1.0\n",
      "  Downloading debugpy-1.6.0-cp37-cp37m-manylinux_2_5_x86_64.manylinux1_x86_64.manylinux_2_12_x86_64.manylinux2010_x86_64.whl (1.8 MB)\n",
      "\u001b[K     |████████████████████████████████| 1.8 MB 73.4 MB/s \n",
      "\u001b[?25hCollecting packaging\n",
      "  Downloading packaging-21.3-py3-none-any.whl (40 kB)\n",
      "\u001b[K     |████████████████████████████████| 40 kB 6.3 MB/s \n",
      "\u001b[?25hCollecting nest-asyncio\n",
      "  Downloading nest_asyncio-1.5.5-py3-none-any.whl (5.2 kB)\n",
      "Collecting psutil\n",
      "  Downloading psutil-5.9.0-cp37-cp37m-manylinux_2_12_x86_64.manylinux2010_x86_64.manylinux_2_17_x86_64.manylinux2014_x86_64.whl (280 kB)\n",
      "\u001b[K     |████████████████████████████████| 280 kB 69.8 MB/s \n",
      "\u001b[?25hCollecting tornado>=6.1\n",
      "  Downloading tornado-6.1-cp37-cp37m-manylinux2010_x86_64.whl (428 kB)\n",
      "\u001b[K     |████████████████████████████████| 428 kB 63.7 MB/s \n",
      "\u001b[?25hRequirement already satisfied: matplotlib-inline>=0.1 in /usr/local/lib/python3.7/site-packages (from ipykernel) (0.1.3)\n",
      "Requirement already satisfied: traitlets>=5.1.0 in /usr/local/lib/python3.7/site-packages (from ipykernel) (5.1.1)\n",
      "Requirement already satisfied: ipython>=7.23.1 in /usr/local/lib/python3.7/site-packages (from ipykernel) (7.32.0)\n",
      "Requirement already satisfied: pygments in /usr/local/lib/python3.7/site-packages (from ipython>=7.23.1->ipykernel) (2.12.0)\n",
      "Requirement already satisfied: jedi>=0.16 in /usr/local/lib/python3.7/site-packages (from ipython>=7.23.1->ipykernel) (0.18.1)\n",
      "Requirement already satisfied: setuptools>=18.5 in /usr/local/lib/python3.7/site-packages (from ipython>=7.23.1->ipykernel) (61.2.0)\n",
      "Requirement already satisfied: pickleshare in /usr/local/lib/python3.7/site-packages (from ipython>=7.23.1->ipykernel) (0.7.5)\n",
      "Requirement already satisfied: prompt-toolkit!=3.0.0,!=3.0.1,<3.1.0,>=2.0.0 in /usr/local/lib/python3.7/site-packages (from ipython>=7.23.1->ipykernel) (3.0.29)\n",
      "Requirement already satisfied: backcall in /usr/local/lib/python3.7/site-packages (from ipython>=7.23.1->ipykernel) (0.2.0)\n",
      "Requirement already satisfied: decorator in /usr/local/lib/python3.7/site-packages (from ipython>=7.23.1->ipykernel) (5.1.1)\n",
      "Requirement already satisfied: pexpect>4.3 in /usr/local/lib/python3.7/site-packages (from ipython>=7.23.1->ipykernel) (4.8.0)\n",
      "Requirement already satisfied: parso<0.9.0,>=0.8.0 in /usr/local/lib/python3.7/site-packages (from jedi>=0.16->ipython>=7.23.1->ipykernel) (0.8.3)\n",
      "Collecting pyzmq>=22.3\n",
      "  Downloading pyzmq-22.3.0-cp37-cp37m-manylinux_2_5_x86_64.manylinux1_x86_64.whl (1.1 MB)\n",
      "\u001b[K     |████████████████████████████████| 1.1 MB 58.4 MB/s \n",
      "\u001b[?25hCollecting jupyter-core>=4.9.2\n",
      "  Downloading jupyter_core-4.10.0-py3-none-any.whl (87 kB)\n",
      "\u001b[K     |████████████████████████████████| 87 kB 8.1 MB/s \n",
      "\u001b[?25hRequirement already satisfied: python-dateutil>=2.8.2 in /usr/local/lib/python3.7/site-packages (from jupyter-client>=6.1.12->ipykernel) (2.8.2)\n",
      "Collecting entrypoints\n",
      "  Downloading entrypoints-0.4-py3-none-any.whl (5.3 kB)\n",
      "Requirement already satisfied: ptyprocess>=0.5 in /usr/local/lib/python3.7/site-packages (from pexpect>4.3->ipython>=7.23.1->ipykernel) (0.7.0)\n",
      "Requirement already satisfied: wcwidth in /usr/local/lib/python3.7/site-packages (from prompt-toolkit!=3.0.0,!=3.0.1,<3.1.0,>=2.0.0->ipython>=7.23.1->ipykernel) (0.2.5)\n",
      "Requirement already satisfied: six>=1.5 in /usr/local/lib/python3.7/site-packages (from python-dateutil>=2.8.2->jupyter-client>=6.1.12->ipykernel) (1.16.0)\n",
      "Requirement already satisfied: pyparsing!=3.0.5,>=2.0.2 in /usr/local/lib/python3.7/site-packages (from packaging->ipykernel) (3.0.8)\n",
      "Installing collected packages: tornado, pyzmq, nest-asyncio, jupyter-core, entrypoints, psutil, packaging, jupyter-client, debugpy, ipykernel\n",
      "Successfully installed debugpy-1.6.0 entrypoints-0.4 ipykernel-6.13.0 jupyter-client-7.2.2 jupyter-core-4.10.0 nest-asyncio-1.5.5 packaging-21.3 psutil-5.9.0 pyzmq-22.3.0 tornado-6.1\n",
      "\u001b[33mWARNING: Running pip as the 'root' user can result in broken permissions and conflicting behaviour with the system package manager. It is recommended to use a virtual environment instead: https://pip.pypa.io/warnings/venv\u001b[0m\n"
     ]
    },
    {
     "data": {
      "application/vnd.colab-display-data+json": {
       "pip_warning": {
        "packages": [
         "zmq"
        ]
       }
      }
     },
     "metadata": {},
     "output_type": "display_data"
    }
   ],
   "source": [
    "!pip3 install pyvis==0.1.9\n",
    "!pip3 install episimmer --no-dependencies\n",
    "!git clone https://github.com/healthbadge/episimmer.git\n",
    "%cd episimmer\n",
    "from google.colab.patches import cv2, cv2_imshow\n",
    "from google.colab import _message\n",
    "import IPython\n",
    "import json"
   ]
  },
  {
   "cell_type": "markdown",
   "metadata": {
    "id": "QdKirNDqX6eH"
   },
   "source": [
    "# Vulnerability Detection\n",
    "\n",
    "---\n",
    "\n",
    "Vulnerability Detection refers to finding vulnerabilities in the system that highly affect or are highly affected by\n",
    "disease spread. A major part of decision support is detecting vulnerabilities in the ecosystem and taking appropriate\n",
    "actions to control the disease spread. For detection of any type of vulnerabilities in the system, we have simply used\n",
    "the [Monte Carlo method](https://en.wikipedia.org/wiki/Monte_Carlo_method#:~:text=Monte%20Carlo%20methods%2C%20or%20Monte,might%20be%20deterministic%20in%20principle).\n",
    "\n",
    "In Episimmer, there are two broad classes of Vulnerability Detection -\n",
    "Agent-based Vulnerability Detection and Event-based Vulnerability Detection. We will only be discussing Agent-based Vulnerability Detection in this Tutorial.\n",
    "\n",
    "In Agent-based VD, we have two types : \n",
    "\n",
    "* **Vulnerable Agents** : Agents who are most likely to reach a certain disease state. For example ‘agents most likely to die’ or ‘agents most likely to get infected’ or ‘agents most likely to be hospitalised’.\n",
    "* **Agent Vulnerabilities** : The Agent on removal or constrained for a duration of time from the ecosystem, lead to the largest reduction in risk or size of the epidemic. This can be viewed as disconnecting parts of the system to stop spread of a disease.\n",
    "\n",
    "While running a VD module, every agent has an associated agent score. Vulnerable agents will have higher scores when they seem to be getting into the vulnerable states specified, more than the other agents. Thus, a higher score indicates a relative more vulnerable agent.\n",
    "Agent vulnerability scores correspond to the agents influence when removed from the environment, considering the agent vulnerability states specified. For example, if we consider a 'Dead' disease state as the agent vulnerability state, when we remove an agent, say Agent A,\n",
    "his absence in the environment might be critical to reducing deaths.\n"
   ]
  },
  {
   "cell_type": "markdown",
   "metadata": {
    "id": "O41PEn7FyZiY"
   },
   "source": [
    "We shall discuss and run a single algorithm of Vulnerable Agents and Agent Vulnerabilities in this Tutorial.\n",
    "\n",
    "VD is run in Episimmer with the help of two files - vd_config.txt and parameter.json files.\n",
    "\n",
    "These two files will help us configure the parameters of the VD run.\n",
    "\n",
    "The v**d_config file** has a specific format and is shown below.\n",
    "\n",
    "```text\n",
    "VD Target <>\n",
    "VD Algorithm <>\n",
    "Algorithm Parameter File <>\n",
    "Pre Processing <>\n",
    "Post Processing <>\n",
    "Output Mode <>\n",
    "```\n",
    "\n",
    "* VD Target field refers to whether the Vulnerability Detection (VD) algorithm must target Agents or Events. Thus, the target\n",
    "value can be Agent or Event.\n",
    "\n",
    "* VD Algorithm field refers to the Algorithm that must be used for Vulnerability Detection. Do note that each target has different\n",
    "algorithms available to it. For Agent Target, algorithms could be - SimpleVulnerableAgent, EarlyVulnerableAgent, SimpleAgentVulnerability,\n",
    "ChunkAgentVulnerability and BanditAlgos. For Event Target, only one algorithm can be used - SimpleEventVulnerability.\n",
    "\n",
    "* Algorithm Parameter File field contains the parameters file which contains the parameter values required by the algorithm. The name of\n",
    "the Parameters file must be given here.\n",
    "\n",
    "* Pre Processing and Post Processing fields refer to operations done before and after the VD simulations. You can leave\n",
    "both of these fields blank for now.\n",
    "\n",
    "* Output Mode refers to what should be printed after the completion of the entire process of VD (after Post processing). Currently,\n",
    "there is only a single Output Mode - Default.\n",
    "\n",
    "The **parameters file** contains the parameters of the specific Vulnerability Detection algorithm to be used. It must be a json file\n",
    "and the name of this file must be passed in the *Algorithm Parameter File* field in the vd_config.txt file. An example is shown below\n",
    "\n",
    "```json\n",
    "{\n",
    "    \"states\":[\"Infected\",\"Recovered\"],\n",
    "    \"num_runs\":100,\n",
    "}\n",
    "```\n",
    "All algorithms have the states and num_runs parameters. States refers to the states in the simulation that are infectious or post-infectious while\n",
    "num_runs refers to the total number of simulation runs. In most disease models, you should have a \"Susceptible\" state, and at the end of a\n",
    "simulation, the agents belonging to this state were the only ones that were not affected by the disease. This would mean that all the other agents\n",
    "were infected at some point in time. This is why you must choose all the agent states that are considered to be either infected or passed an infected\n",
    "state at some point in time. For example, if the SIR model is used, the VD states you should choose are both the Infected(I) and Recovered(R) states.\n",
    "\n"
   ]
  },
  {
   "cell_type": "markdown",
   "metadata": {
    "id": "yunp2EFmyoId"
   },
   "source": [
    "### Simple Vulnerable Agents\n",
    "\n",
    "This algorithm scores the agent based on the number of times he was infected in multiple simulations.\n",
    "\n",
    "$$Agent\\ Score = \\sum_{i=0}^{N-1}{ 1[Agent\\ Infected]}$$\n",
    "\n",
    "where N refers to the total number of simulation runs."
   ]
  },
  {
   "cell_type": "markdown",
   "metadata": {
    "id": "uWRswbFZ3K1-"
   },
   "source": [
    "### Simple Agent Vulnerability\n",
    "\n",
    "This algorithm scores the agent based on the severity of outbreak after the agent's removal. Multiple simulations are run by randomly selecting and removing an agent and running the simulation. The agent score is calculated by finding the running average of scores for each run.\n",
    "\n",
    "$$Agent\\ Score = 1 - \\frac{Total\\ Agents\\ Infected}{Total\\ Agents}$$"
   ]
  },
  {
   "cell_type": "code",
   "execution_count": 4,
   "metadata": {
    "id": "jyuYq7T_yY_Z"
   },
   "outputs": [],
   "source": [
    "# Some helper functions\n",
    "def read_file(file_name):\n",
    "  with open(file_name) as f:\n",
    "    print(f.read())"
   ]
  },
  {
   "cell_type": "markdown",
   "metadata": {
    "id": "ar-XVmRv2Jxi"
   },
   "source": [
    "### Star Graph "
   ]
  },
  {
   "cell_type": "code",
   "execution_count": 5,
   "metadata": {
    "id": "u1yqD4lhy9_Q"
   },
   "outputs": [],
   "source": [
    "!mkdir StarG\n",
    "!cp -a examples/Vulnerability_Detection/Star_Graph/. StarG/"
   ]
  },
  {
   "cell_type": "code",
   "execution_count": 6,
   "metadata": {
    "colab": {
     "base_uri": "https://localhost:8080/",
     "height": 636
    },
    "id": "2iLRt0e_03rX",
    "outputId": "5c7c598c-a01a-477d-f714-4ca2dc3ff2c8"
   },
   "outputs": [
    {
     "data": {
      "text/html": [
       "<html>\n",
       "<head>\n",
       "<link rel=\"stylesheet\" href=\"https://cdnjs.cloudflare.com/ajax/libs/vis/4.16.1/vis.css\" type=\"text/css\" />\n",
       "<script type=\"text/javascript\" src=\"https://cdnjs.cloudflare.com/ajax/libs/vis/4.16.1/vis-network.min.js\"> </script>\n",
       "<center>\n",
       "<h1></h1>\n",
       "</center>\n",
       "\n",
       "<!-- <link rel=\"stylesheet\" href=\"../node_modules/vis/dist/vis.min.css\" type=\"text/css\" />\n",
       "<script type=\"text/javascript\" src=\"../node_modules/vis/dist/vis.js\"> </script>-->\n",
       "\n",
       "<style type=\"text/css\">\n",
       "\n",
       "        #mynetwork {\n",
       "            width: 500px;\n",
       "            height: 500px;\n",
       "            background-color: #ffffff;\n",
       "            border: 1px solid lightgray;\n",
       "            position: relative;\n",
       "            float: left;\n",
       "        }\n",
       "\n",
       "        \n",
       "\n",
       "        \n",
       "        #config {\n",
       "            float: left;\n",
       "            width: 400px;\n",
       "            height: 600px;\n",
       "        }\n",
       "        \n",
       "\n",
       "        \n",
       "</style>\n",
       "\n",
       "</head>\n",
       "\n",
       "<body>\n",
       "<div id = \"mynetwork\"></div>\n",
       "\n",
       "\n",
       "<div id = \"config\"></div>\n",
       "\n",
       "<script type=\"text/javascript\">\n",
       "\n",
       "    // initialize global variables.\n",
       "    var edges;\n",
       "    var nodes;\n",
       "    var network; \n",
       "    var container;\n",
       "    var options, data;\n",
       "\n",
       "    \n",
       "    // This method is responsible for drawing the graph, returns the drawn network\n",
       "    function drawGraph() {\n",
       "        var container = document.getElementById('mynetwork');\n",
       "        \n",
       "        \n",
       "\n",
       "        // parsing and collecting nodes and edges from the python\n",
       "        nodes = new vis.DataSet([{\"id\": 0, \"label\": 0, \"shape\": \"dot\"}, {\"id\": 1, \"label\": 1, \"shape\": \"dot\"}, {\"id\": 2, \"label\": 2, \"shape\": \"dot\"}, {\"id\": 3, \"label\": 3, \"shape\": \"dot\"}, {\"id\": 4, \"label\": 4, \"shape\": \"dot\"}, {\"id\": 5, \"label\": 5, \"shape\": \"dot\"}, {\"id\": 6, \"label\": 6, \"shape\": \"dot\"}]);\n",
       "        edges = new vis.DataSet([{\"from\": 0, \"to\": 1}, {\"from\": 0, \"to\": 2}, {\"from\": 0, \"to\": 3}, {\"from\": 0, \"to\": 4}, {\"from\": 0, \"to\": 5}, {\"from\": 0, \"to\": 6}]);\n",
       "\n",
       "        // adding nodes and edges to the graph\n",
       "        data = {nodes: nodes, edges: edges};\n",
       "\n",
       "        var options = {\n",
       "    \"configure\": {\n",
       "        \"enabled\": true,\n",
       "        \"filter\": [\n",
       "            \"physics\"\n",
       "        ]\n",
       "    },\n",
       "    \"edges\": {\n",
       "        \"color\": {\n",
       "            \"inherit\": true\n",
       "        },\n",
       "        \"smooth\": {\n",
       "            \"enabled\": false,\n",
       "            \"type\": \"continuous\"\n",
       "        }\n",
       "    },\n",
       "    \"interaction\": {\n",
       "        \"dragNodes\": true,\n",
       "        \"hideEdgesOnDrag\": false,\n",
       "        \"hideNodesOnDrag\": false\n",
       "    },\n",
       "    \"physics\": {\n",
       "        \"enabled\": true,\n",
       "        \"stabilization\": {\n",
       "            \"enabled\": true,\n",
       "            \"fit\": true,\n",
       "            \"iterations\": 1000,\n",
       "            \"onlyDynamicEdges\": false,\n",
       "            \"updateInterval\": 50\n",
       "        }\n",
       "    }\n",
       "};\n",
       "        \n",
       "        \n",
       "\n",
       "        \n",
       "        // if this network requires displaying the configure window,\n",
       "        // put it in its div\n",
       "        options.configure[\"container\"] = document.getElementById(\"config\");\n",
       "        \n",
       "\n",
       "        network = new vis.Network(container, data, options);\n",
       "\t \n",
       "        \n",
       "\n",
       "\n",
       "        \n",
       "\n",
       "        return network;\n",
       "\n",
       "    }\n",
       "\n",
       "    drawGraph();\n",
       "\n",
       "</script>\n",
       "</body>\n",
       "</html>"
      ],
      "text/plain": [
       "<IPython.core.display.HTML object>"
      ]
     },
     "execution_count": 6,
     "metadata": {},
     "output_type": "execute_result"
    }
   ],
   "source": [
    "!python3 scripts/viz/view_interaction_graph.py -n 7 -f StarG/interactions_list.txt\n",
    "IPython.display.HTML(filename='StarG/interactions_list.html')"
   ]
  },
  {
   "cell_type": "markdown",
   "metadata": {
    "id": "cQHsa9RD28A9"
   },
   "source": [
    "As shown, the star graph consists of a single node ('0') connected to all other nodes. In this case, our largest Vulnerable agent and highest agent vulnerability will be the central node. \n",
    "\n",
    "Let us manipulate the vd_config.txt and parameter.json file to print Vulnerable agents and Agent Vulnerabilities."
   ]
  },
  {
   "cell_type": "markdown",
   "metadata": {
    "id": "6JIJuUNP5z69"
   },
   "source": [
    "First, let us find the top Vulnerable agents."
   ]
  },
  {
   "cell_type": "code",
   "execution_count": 7,
   "metadata": {
    "id": "le7yV7-32SC9"
   },
   "outputs": [],
   "source": [
    "vd_config_str = \"VD Target <Agent>\\n\\\n",
    "VD Algorithm <SimpleVulnerableAgent>\\n\\\n",
    "Algorithm Parameter File <parameter.json>\\n\\\n",
    "Pre Processing <>\\n\\\n",
    "Post Processing <>\\n\\\n",
    "Output Mode <Default>\"\n",
    "\n",
    "with open(\"StarG/vd_config.txt\", \"w\") as f:\n",
    "  f.write(vd_config_str)"
   ]
  },
  {
   "cell_type": "code",
   "execution_count": 8,
   "metadata": {
    "id": "xOwijDU132Se"
   },
   "outputs": [],
   "source": [
    "jdict = {\n",
    "    \"states\":[\"Infected\",\"Recovered\"],\n",
    "    \"num_runs\":1000\n",
    "}\n",
    "\n",
    "json_object = json.dumps(jdict, indent = 4)\n",
    "\n",
    "with open(\"StarG/parameter.json\", \"w\") as outfile:\n",
    "    outfile.write(json_object)"
   ]
  },
  {
   "cell_type": "code",
   "execution_count": 9,
   "metadata": {
    "colab": {
     "base_uri": "https://localhost:8080/"
    },
    "id": "0fwvPes349HC",
    "outputId": "800b497b-ef76-424e-f3b2-b81bfde21668"
   },
   "outputs": [
    {
     "name": "stdout",
     "output_type": "stream",
     "text": [
      "Iteration running :  100\n",
      "Iteration running :  200\n",
      "Iteration running :  300\n",
      "Iteration running :  400\n",
      "Iteration running :  500\n",
      "Iteration running :  600\n",
      "Iteration running :  700\n",
      "Iteration running :  800\n",
      "Iteration running :  900\n",
      "Iteration running :  1000\n",
      "{'0': 973.0, '6': 881.0, '3': 871.0, '2': 864.0, '1': 860.0, '4': 856.0, '5': 855.0, '9': 499.0, '7': 490.0, '8': 469.0}\n",
      "{'8': 469.0, '7': 490.0, '9': 499.0, '5': 855.0, '4': 856.0, '1': 860.0, '2': 864.0, '3': 871.0, '6': 881.0, '0': 973.0}\n"
     ]
    }
   ],
   "source": [
    "!python3 episimmer/main.py StarG -np -vul"
   ]
  },
  {
   "cell_type": "markdown",
   "metadata": {
    "id": "MnTTXEHS5f5y"
   },
   "source": [
    "Our highest score is expected as it is for Agent '0' which is our central node. "
   ]
  },
  {
   "cell_type": "markdown",
   "metadata": {
    "id": "7ztDNdFg53NM"
   },
   "source": [
    "Now, lets us find the top Agent Vulnerabilities"
   ]
  },
  {
   "cell_type": "code",
   "execution_count": 10,
   "metadata": {
    "id": "ANGjkhfR5RLF"
   },
   "outputs": [],
   "source": [
    "vd_config_str = \"VD Target <Agent>\\n\\\n",
    "VD Algorithm <SimpleAgentVulnerability>\\n\\\n",
    "Algorithm Parameter File <parameter.json>\\n\\\n",
    "Pre Processing <>\\n\\\n",
    "Post Processing <>\\n\\\n",
    "Output Mode <Default>\"\n",
    "\n",
    "with open(\"StarG/vd_config.txt\", \"w\") as f:\n",
    "  f.write(vd_config_str)"
   ]
  },
  {
   "cell_type": "code",
   "execution_count": 11,
   "metadata": {
    "id": "FVNXgtAX57IL"
   },
   "outputs": [],
   "source": [
    "jdict = {\n",
    "    \"states\":[\"Infected\",\"Recovered\"],\n",
    "    \"num_runs\":1000,\n",
    "    \"num_agents_to_remove\":1\n",
    "}\n",
    "\n",
    "json_object = json.dumps(jdict, indent = 4)\n",
    "\n",
    "with open(\"StarG/parameter.json\", \"w\") as outfile:\n",
    "    outfile.write(json_object)"
   ]
  },
  {
   "cell_type": "code",
   "execution_count": 12,
   "metadata": {
    "colab": {
     "base_uri": "https://localhost:8080/"
    },
    "id": "kkLTWUz_57fp",
    "outputId": "9d815484-75c4-4bb0-d10c-9f6052907a94"
   },
   "outputs": [
    {
     "name": "stdout",
     "output_type": "stream",
     "text": [
      "Iteration running :  100\n",
      "Iteration running :  200\n",
      "Iteration running :  300\n",
      "Iteration running :  400\n",
      "Iteration running :  500\n",
      "Iteration running :  600\n",
      "Iteration running :  700\n",
      "Iteration running :  800\n",
      "Iteration running :  900\n",
      "Iteration running :  1000\n",
      "{'0': 0.541, '2': 0.2801, '1': 0.2691, '6': 0.2567, '5': 0.2524, '4': 0.2486, '3': 0.2341, '9': 0.2145, '7': 0.2037, '8': 0.1848}\n",
      "{'8': 0.1848, '7': 0.2037, '9': 0.2145, '3': 0.2341, '4': 0.2486, '5': 0.2524, '6': 0.2567, '1': 0.2691, '2': 0.2801, '0': 0.541}\n"
     ]
    }
   ],
   "source": [
    "!python3 episimmer/main.py StarG -np -vul"
   ]
  },
  {
   "cell_type": "markdown",
   "metadata": {
    "id": "_ji7JsZ16SSM"
   },
   "source": [
    "Once again we get the highest Agent Vulnerability as node '0' which is expected."
   ]
  },
  {
   "cell_type": "markdown",
   "metadata": {
    "id": "ZN9W_q7_6nqQ"
   },
   "source": [
    "### Multi-Cycle Graph"
   ]
  },
  {
   "cell_type": "code",
   "execution_count": 13,
   "metadata": {
    "id": "OKt43kwC6K4i"
   },
   "outputs": [],
   "source": [
    "!mkdir MCycleG\n",
    "!cp -a examples/Vulnerability_Detection/Multi_Cycle_Graph/. MCycleG/"
   ]
  },
  {
   "cell_type": "code",
   "execution_count": 14,
   "metadata": {
    "colab": {
     "base_uri": "https://localhost:8080/",
     "height": 636
    },
    "id": "lpmTg2LU7Xzp",
    "outputId": "31f0bf4b-4bbc-45f8-e0f9-6d528a5f9452"
   },
   "outputs": [
    {
     "data": {
      "text/html": [
       "<html>\n",
       "<head>\n",
       "<link rel=\"stylesheet\" href=\"https://cdnjs.cloudflare.com/ajax/libs/vis/4.16.1/vis.css\" type=\"text/css\" />\n",
       "<script type=\"text/javascript\" src=\"https://cdnjs.cloudflare.com/ajax/libs/vis/4.16.1/vis-network.min.js\"> </script>\n",
       "<center>\n",
       "<h1></h1>\n",
       "</center>\n",
       "\n",
       "<!-- <link rel=\"stylesheet\" href=\"../node_modules/vis/dist/vis.min.css\" type=\"text/css\" />\n",
       "<script type=\"text/javascript\" src=\"../node_modules/vis/dist/vis.js\"> </script>-->\n",
       "\n",
       "<style type=\"text/css\">\n",
       "\n",
       "        #mynetwork {\n",
       "            width: 500px;\n",
       "            height: 500px;\n",
       "            background-color: #ffffff;\n",
       "            border: 1px solid lightgray;\n",
       "            position: relative;\n",
       "            float: left;\n",
       "        }\n",
       "\n",
       "        \n",
       "\n",
       "        \n",
       "        #config {\n",
       "            float: left;\n",
       "            width: 400px;\n",
       "            height: 600px;\n",
       "        }\n",
       "        \n",
       "\n",
       "        \n",
       "</style>\n",
       "\n",
       "</head>\n",
       "\n",
       "<body>\n",
       "<div id = \"mynetwork\"></div>\n",
       "\n",
       "\n",
       "<div id = \"config\"></div>\n",
       "\n",
       "<script type=\"text/javascript\">\n",
       "\n",
       "    // initialize global variables.\n",
       "    var edges;\n",
       "    var nodes;\n",
       "    var network; \n",
       "    var container;\n",
       "    var options, data;\n",
       "\n",
       "    \n",
       "    // This method is responsible for drawing the graph, returns the drawn network\n",
       "    function drawGraph() {\n",
       "        var container = document.getElementById('mynetwork');\n",
       "        \n",
       "        \n",
       "\n",
       "        // parsing and collecting nodes and edges from the python\n",
       "        nodes = new vis.DataSet([{\"id\": 0, \"label\": 0, \"shape\": \"dot\"}, {\"id\": 1, \"label\": 1, \"shape\": \"dot\"}, {\"id\": 2, \"label\": 2, \"shape\": \"dot\"}, {\"id\": 3, \"label\": 3, \"shape\": \"dot\"}, {\"id\": 4, \"label\": 4, \"shape\": \"dot\"}, {\"id\": 5, \"label\": 5, \"shape\": \"dot\"}, {\"id\": 6, \"label\": 6, \"shape\": \"dot\"}, {\"id\": 7, \"label\": 7, \"shape\": \"dot\"}, {\"id\": 8, \"label\": 8, \"shape\": \"dot\"}, {\"id\": 9, \"label\": 9, \"shape\": \"dot\"}, {\"id\": 10, \"label\": 10, \"shape\": \"dot\"}, {\"id\": 11, \"label\": 11, \"shape\": \"dot\"}, {\"id\": 12, \"label\": 12, \"shape\": \"dot\"}, {\"id\": 13, \"label\": 13, \"shape\": \"dot\"}, {\"id\": 14, \"label\": 14, \"shape\": \"dot\"}, {\"id\": 15, \"label\": 15, \"shape\": \"dot\"}, {\"id\": 16, \"label\": 16, \"shape\": \"dot\"}, {\"id\": 17, \"label\": 17, \"shape\": \"dot\"}, {\"id\": 18, \"label\": 18, \"shape\": \"dot\"}, {\"id\": 19, \"label\": 19, \"shape\": \"dot\"}, {\"id\": 20, \"label\": 20, \"shape\": \"dot\"}, {\"id\": 21, \"label\": 21, \"shape\": \"dot\"}, {\"id\": 22, \"label\": 22, \"shape\": \"dot\"}, {\"id\": 23, \"label\": 23, \"shape\": \"dot\"}, {\"id\": 24, \"label\": 24, \"shape\": \"dot\"}, {\"id\": 25, \"label\": 25, \"shape\": \"dot\"}, {\"id\": 26, \"label\": 26, \"shape\": \"dot\"}, {\"id\": 27, \"label\": 27, \"shape\": \"dot\"}, {\"id\": 28, \"label\": 28, \"shape\": \"dot\"}, {\"id\": 29, \"label\": 29, \"shape\": \"dot\"}]);\n",
       "        edges = new vis.DataSet([{\"from\": 27, \"to\": 26}, {\"from\": 29, \"to\": 28}, {\"from\": 10, \"to\": 11}, {\"from\": 22, \"to\": 23}, {\"from\": 0, \"to\": 20}, {\"from\": 5, \"to\": 6}, {\"from\": 9, \"to\": 8}, {\"from\": 2, \"to\": 1}, {\"from\": 14, \"to\": 13}, {\"from\": 15, \"to\": 16}, {\"from\": 20, \"to\": 29}, {\"from\": 18, \"to\": 19}, {\"from\": 0, \"to\": 10}, {\"from\": 17, \"to\": 16}, {\"from\": 26, \"to\": 25}, {\"from\": 9, \"to\": 0}, {\"from\": 6, \"to\": 7}, {\"from\": 13, \"to\": 12}, {\"from\": 21, \"to\": 20}, {\"from\": 24, \"to\": 23}, {\"from\": 3, \"to\": 4}, {\"from\": 19, \"to\": 10}, {\"from\": 28, \"to\": 27}, {\"from\": 22, \"to\": 21}, {\"from\": 3, \"to\": 2}, {\"from\": 5, \"to\": 4}, {\"from\": 18, \"to\": 17}, {\"from\": 20, \"to\": 10}, {\"from\": 14, \"to\": 15}, {\"from\": 8, \"to\": 7}, {\"from\": 12, \"to\": 11}, {\"from\": 1, \"to\": 0}, {\"from\": 25, \"to\": 24}]);\n",
       "\n",
       "        // adding nodes and edges to the graph\n",
       "        data = {nodes: nodes, edges: edges};\n",
       "\n",
       "        var options = {\n",
       "    \"configure\": {\n",
       "        \"enabled\": true,\n",
       "        \"filter\": [\n",
       "            \"physics\"\n",
       "        ]\n",
       "    },\n",
       "    \"edges\": {\n",
       "        \"color\": {\n",
       "            \"inherit\": true\n",
       "        },\n",
       "        \"smooth\": {\n",
       "            \"enabled\": false,\n",
       "            \"type\": \"continuous\"\n",
       "        }\n",
       "    },\n",
       "    \"interaction\": {\n",
       "        \"dragNodes\": true,\n",
       "        \"hideEdgesOnDrag\": false,\n",
       "        \"hideNodesOnDrag\": false\n",
       "    },\n",
       "    \"physics\": {\n",
       "        \"enabled\": true,\n",
       "        \"stabilization\": {\n",
       "            \"enabled\": true,\n",
       "            \"fit\": true,\n",
       "            \"iterations\": 1000,\n",
       "            \"onlyDynamicEdges\": false,\n",
       "            \"updateInterval\": 50\n",
       "        }\n",
       "    }\n",
       "};\n",
       "        \n",
       "        \n",
       "\n",
       "        \n",
       "        // if this network requires displaying the configure window,\n",
       "        // put it in its div\n",
       "        options.configure[\"container\"] = document.getElementById(\"config\");\n",
       "        \n",
       "\n",
       "        network = new vis.Network(container, data, options);\n",
       "\t \n",
       "        \n",
       "\n",
       "\n",
       "        \n",
       "\n",
       "        return network;\n",
       "\n",
       "    }\n",
       "\n",
       "    drawGraph();\n",
       "\n",
       "</script>\n",
       "</body>\n",
       "</html>"
      ],
      "text/plain": [
       "<IPython.core.display.HTML object>"
      ]
     },
     "execution_count": 14,
     "metadata": {},
     "output_type": "execute_result"
    }
   ],
   "source": [
    "!python3 scripts/viz/view_interaction_graph.py -n 30 -f MCycleG/interactions_list.csv\n",
    "IPython.display.HTML(filename='MCycleG/interactions_list.html')"
   ]
  },
  {
   "cell_type": "markdown",
   "metadata": {
    "id": "8zFX2cin8HI5"
   },
   "source": [
    "This Multi-Cycle graph is connected by three major nodes - '0', '10' and '20'. "
   ]
  },
  {
   "cell_type": "markdown",
   "metadata": {
    "id": "KFLnvxkf8V8F"
   },
   "source": [
    "Let us find the top Vulnerable agents first"
   ]
  },
  {
   "cell_type": "code",
   "execution_count": 15,
   "metadata": {
    "id": "Y5Uq2fvn7Fws"
   },
   "outputs": [],
   "source": [
    "vd_config_str = \"VD Target <Agent>\\n\\\n",
    "VD Algorithm <SimpleVulnerableAgent>\\n\\\n",
    "Algorithm Parameter File <parameter.json>\\n\\\n",
    "Pre Processing <>\\n\\\n",
    "Post Processing <>\\n\\\n",
    "Output Mode <Default>\"\n",
    "\n",
    "with open(\"MCycleG/vd_config.txt\", \"w\") as f:\n",
    "  f.write(vd_config_str)"
   ]
  },
  {
   "cell_type": "code",
   "execution_count": 16,
   "metadata": {
    "id": "Fd1MQHe_7TH1"
   },
   "outputs": [],
   "source": [
    "jdict = {\n",
    "    \"states\":[\"Infected\",\"Recovered\"],\n",
    "    \"num_runs\":1000,\n",
    "}\n",
    "\n",
    "json_object = json.dumps(jdict, indent = 4)\n",
    "\n",
    "with open(\"MCycleG/parameter.json\", \"w\") as outfile:\n",
    "    outfile.write(json_object)"
   ]
  },
  {
   "cell_type": "code",
   "execution_count": 17,
   "metadata": {
    "colab": {
     "base_uri": "https://localhost:8080/"
    },
    "id": "XVmQBBvd7U3R",
    "outputId": "05a910bf-f845-4b81-a543-e7a71722ec62"
   },
   "outputs": [
    {
     "name": "stdout",
     "output_type": "stream",
     "text": [
      "Iteration running :  100\n",
      "Iteration running :  200\n",
      "Iteration running :  300\n",
      "Iteration running :  400\n",
      "Iteration running :  500\n",
      "Iteration running :  600\n",
      "Iteration running :  700\n",
      "Iteration running :  800\n",
      "Iteration running :  900\n",
      "Iteration running :  1000\n",
      "{'0': 751.0, '20': 747.0, '10': 745.0, '9': 647.0, '1': 644.0, '11': 632.0, '19': 623.0, '21': 618.0, '29': 608.0, '8': 577.0}\n",
      "{'83': 82.0, '37': 83.0, '56': 83.0, '84': 85.0, '64': 86.0, '79': 86.0, '89': 86.0, '54': 87.0, '44': 88.0, '78': 88.0}\n"
     ]
    }
   ],
   "source": [
    "!python3 episimmer/main.py MCycleG -np -vul"
   ]
  },
  {
   "cell_type": "markdown",
   "metadata": {
    "id": "_ywZ2gjk8PRq"
   },
   "source": [
    "Our top 3 Vulnerable agents are - '0', '10' and '20'."
   ]
  },
  {
   "cell_type": "markdown",
   "metadata": {
    "id": "go6BNVXi8l7-"
   },
   "source": [
    "Now let us find the top agent vulnerabilities"
   ]
  },
  {
   "cell_type": "code",
   "execution_count": 18,
   "metadata": {
    "id": "PndLlwvM7yJj"
   },
   "outputs": [],
   "source": [
    "vd_config_str = \"VD Target <Agent>\\n\\\n",
    "VD Algorithm <SimpleAgentVulnerability>\\n\\\n",
    "Algorithm Parameter File <parameter.json>\\n\\\n",
    "Pre Processing <>\\n\\\n",
    "Post Processing <>\\n\\\n",
    "Output Mode <Default>\"\n",
    "\n",
    "with open(\"MCycleG/vd_config.txt\", \"w\") as f:\n",
    "  f.write(vd_config_str)"
   ]
  },
  {
   "cell_type": "markdown",
   "metadata": {
    "id": "CF8eaafA-OOo"
   },
   "source": [
    "Since we have three central nodes, we shall set num_agents_to_remove to 3."
   ]
  },
  {
   "cell_type": "code",
   "execution_count": 19,
   "metadata": {
    "id": "OeSVLGog812R"
   },
   "outputs": [],
   "source": [
    "jdict = {\n",
    "    \"states\":[\"Infected\",\"Recovered\"],\n",
    "    \"num_runs\":5000,\n",
    "    \"num_agents_to_remove\":3\n",
    "}\n",
    "\n",
    "\n",
    "json_object = json.dumps(jdict, indent = 4)\n",
    "\n",
    "with open(\"MCycleG/parameter.json\", \"w\") as outfile:\n",
    "    outfile.write(json_object)"
   ]
  },
  {
   "cell_type": "code",
   "execution_count": 20,
   "metadata": {
    "colab": {
     "base_uri": "https://localhost:8080/"
    },
    "id": "3W02QbRS87iu",
    "outputId": "e8c4b8cd-3541-4e07-d11e-c7f7948ad335"
   },
   "outputs": [
    {
     "name": "stdout",
     "output_type": "stream",
     "text": [
      "Iteration running :  500\n",
      "Iteration running :  1000\n",
      "Iteration running :  1500\n",
      "Iteration running :  2000\n",
      "Iteration running :  2500\n",
      "Iteration running :  3000\n",
      "Iteration running :  3500\n",
      "Iteration running :  4000\n",
      "Iteration running :  4500\n",
      "Iteration running :  5000\n",
      "{'20': 0.8073, '0': 0.8062, '10': 0.803, '17': 0.7959, '9': 0.7936, '88': 0.7855, '14': 0.7845, '13': 0.7832, '18': 0.783, '74': 0.7829}\n",
      "{'66': 0.7516, '83': 0.7539, '63': 0.7559, '99': 0.7577, '96': 0.7583, '93': 0.7586, '34': 0.7587, '37': 0.7599, '54': 0.76, '92': 0.7608}\n"
     ]
    }
   ],
   "source": [
    "!python3 episimmer/main.py MCycleG -np -vul"
   ]
  },
  {
   "cell_type": "markdown",
   "metadata": {
    "id": "YFdDbQNx9-W_"
   },
   "source": [
    "This is quite interesting as we have three central nodes, instead of just 1. That is why removal of just one of the three nodes will not help as much as removing all three. "
   ]
  },
  {
   "cell_type": "markdown",
   "metadata": {
    "id": "Ccej6srtHh_T"
   },
   "source": [
    "### Complex Graph"
   ]
  },
  {
   "cell_type": "code",
   "execution_count": 21,
   "metadata": {
    "id": "-KAyNYNhHpvM"
   },
   "outputs": [],
   "source": [
    "!mkdir ComplexG\n",
    "!cp -a examples/Vulnerability_Detection/Complex_Graph/. ComplexG/"
   ]
  },
  {
   "cell_type": "code",
   "execution_count": 22,
   "metadata": {
    "colab": {
     "base_uri": "https://localhost:8080/",
     "height": 636
    },
    "id": "dmS3pPY3HppL",
    "outputId": "fc162c54-501b-4898-87cb-279f57cddd38"
   },
   "outputs": [
    {
     "data": {
      "text/html": [
       "<html>\n",
       "<head>\n",
       "<link rel=\"stylesheet\" href=\"https://cdnjs.cloudflare.com/ajax/libs/vis/4.16.1/vis.css\" type=\"text/css\" />\n",
       "<script type=\"text/javascript\" src=\"https://cdnjs.cloudflare.com/ajax/libs/vis/4.16.1/vis-network.min.js\"> </script>\n",
       "<center>\n",
       "<h1></h1>\n",
       "</center>\n",
       "\n",
       "<!-- <link rel=\"stylesheet\" href=\"../node_modules/vis/dist/vis.min.css\" type=\"text/css\" />\n",
       "<script type=\"text/javascript\" src=\"../node_modules/vis/dist/vis.js\"> </script>-->\n",
       "\n",
       "<style type=\"text/css\">\n",
       "\n",
       "        #mynetwork {\n",
       "            width: 500px;\n",
       "            height: 500px;\n",
       "            background-color: #ffffff;\n",
       "            border: 1px solid lightgray;\n",
       "            position: relative;\n",
       "            float: left;\n",
       "        }\n",
       "\n",
       "        \n",
       "\n",
       "        \n",
       "        #config {\n",
       "            float: left;\n",
       "            width: 400px;\n",
       "            height: 600px;\n",
       "        }\n",
       "        \n",
       "\n",
       "        \n",
       "</style>\n",
       "\n",
       "</head>\n",
       "\n",
       "<body>\n",
       "<div id = \"mynetwork\"></div>\n",
       "\n",
       "\n",
       "<div id = \"config\"></div>\n",
       "\n",
       "<script type=\"text/javascript\">\n",
       "\n",
       "    // initialize global variables.\n",
       "    var edges;\n",
       "    var nodes;\n",
       "    var network; \n",
       "    var container;\n",
       "    var options, data;\n",
       "\n",
       "    \n",
       "    // This method is responsible for drawing the graph, returns the drawn network\n",
       "    function drawGraph() {\n",
       "        var container = document.getElementById('mynetwork');\n",
       "        \n",
       "        \n",
       "\n",
       "        // parsing and collecting nodes and edges from the python\n",
       "        nodes = new vis.DataSet([{\"id\": 0, \"label\": 0, \"shape\": \"dot\"}, {\"id\": 1, \"label\": 1, \"shape\": \"dot\"}, {\"id\": 2, \"label\": 2, \"shape\": \"dot\"}, {\"id\": 3, \"label\": 3, \"shape\": \"dot\"}, {\"id\": 4, \"label\": 4, \"shape\": \"dot\"}, {\"id\": 5, \"label\": 5, \"shape\": \"dot\"}, {\"id\": 6, \"label\": 6, \"shape\": \"dot\"}, {\"id\": 7, \"label\": 7, \"shape\": \"dot\"}, {\"id\": 8, \"label\": 8, \"shape\": \"dot\"}, {\"id\": 9, \"label\": 9, \"shape\": \"dot\"}, {\"id\": 10, \"label\": 10, \"shape\": \"dot\"}, {\"id\": 11, \"label\": 11, \"shape\": \"dot\"}, {\"id\": 12, \"label\": 12, \"shape\": \"dot\"}]);\n",
       "        edges = new vis.DataSet([{\"from\": 0, \"to\": 1}, {\"from\": 0, \"to\": 2}, {\"from\": 0, \"to\": 3}, {\"from\": 1, \"to\": 2}, {\"from\": 1, \"to\": 3}, {\"from\": 2, \"to\": 3}, {\"from\": 0, \"to\": 4}, {\"from\": 0, \"to\": 5}, {\"from\": 0, \"to\": 6}, {\"from\": 0, \"to\": 7}, {\"from\": 4, \"to\": 5}, {\"from\": 4, \"to\": 6}, {\"from\": 4, \"to\": 7}, {\"from\": 5, \"to\": 6}, {\"from\": 5, \"to\": 7}, {\"from\": 6, \"to\": 7}, {\"from\": 6, \"to\": 8}, {\"from\": 7, \"to\": 8}, {\"from\": 8, \"to\": 9}, {\"from\": 9, \"to\": 10}, {\"from\": 9, \"to\": 11}, {\"from\": 9, \"to\": 12}, {\"from\": 10, \"to\": 11}, {\"from\": 10, \"to\": 12}, {\"from\": 11, \"to\": 12}]);\n",
       "\n",
       "        // adding nodes and edges to the graph\n",
       "        data = {nodes: nodes, edges: edges};\n",
       "\n",
       "        var options = {\n",
       "    \"configure\": {\n",
       "        \"enabled\": true,\n",
       "        \"filter\": [\n",
       "            \"physics\"\n",
       "        ]\n",
       "    },\n",
       "    \"edges\": {\n",
       "        \"color\": {\n",
       "            \"inherit\": true\n",
       "        },\n",
       "        \"smooth\": {\n",
       "            \"enabled\": false,\n",
       "            \"type\": \"continuous\"\n",
       "        }\n",
       "    },\n",
       "    \"interaction\": {\n",
       "        \"dragNodes\": true,\n",
       "        \"hideEdgesOnDrag\": false,\n",
       "        \"hideNodesOnDrag\": false\n",
       "    },\n",
       "    \"physics\": {\n",
       "        \"enabled\": true,\n",
       "        \"stabilization\": {\n",
       "            \"enabled\": true,\n",
       "            \"fit\": true,\n",
       "            \"iterations\": 1000,\n",
       "            \"onlyDynamicEdges\": false,\n",
       "            \"updateInterval\": 50\n",
       "        }\n",
       "    }\n",
       "};\n",
       "        \n",
       "        \n",
       "\n",
       "        \n",
       "        // if this network requires displaying the configure window,\n",
       "        // put it in its div\n",
       "        options.configure[\"container\"] = document.getElementById(\"config\");\n",
       "        \n",
       "\n",
       "        network = new vis.Network(container, data, options);\n",
       "\t \n",
       "        \n",
       "\n",
       "\n",
       "        \n",
       "\n",
       "        return network;\n",
       "\n",
       "    }\n",
       "\n",
       "    drawGraph();\n",
       "\n",
       "</script>\n",
       "</body>\n",
       "</html>"
      ],
      "text/plain": [
       "<IPython.core.display.HTML object>"
      ]
     },
     "execution_count": 22,
     "metadata": {},
     "output_type": "execute_result"
    }
   ],
   "source": [
    "!python3 scripts/viz/view_interaction_graph.py -n 13 -f ComplexG/interactions_list.txt\n",
    "IPython.display.HTML(filename='ComplexG/interactions_list.html')"
   ]
  },
  {
   "cell_type": "markdown",
   "metadata": {
    "id": "r_Q-_bN9H98a"
   },
   "source": [
    "This Complex graph is worth showing as the highest agent vulnerability need not be a node that is highly connected. Let us run the VD algorithm first."
   ]
  },
  {
   "cell_type": "code",
   "execution_count": 23,
   "metadata": {
    "id": "5-9bbwehITPM"
   },
   "outputs": [],
   "source": [
    "vd_config_str = \"VD Target <Agent>\\n\\\n",
    "VD Algorithm <SimpleAgentVulnerability>\\n\\\n",
    "Algorithm Parameter File <parameter.json>\\n\\\n",
    "Pre Processing <>\\n\\\n",
    "Post Processing <>\\n\\\n",
    "Output Mode <Default>\"\n",
    "\n",
    "with open(\"ComplexG/vd_config.txt\", \"w\") as f:\n",
    "  f.write(vd_config_str)"
   ]
  },
  {
   "cell_type": "code",
   "execution_count": 24,
   "metadata": {
    "id": "bQgAUOSiITrq"
   },
   "outputs": [],
   "source": [
    "jdict = {\n",
    "    \"states\":[\"Infected\",\"Recovered\"],\n",
    "    \"num_runs\":1000,\n",
    "    \"num_agents_to_remove\":1\n",
    "}\n",
    "\n",
    "json_object = json.dumps(jdict, indent = 4)\n",
    "\n",
    "with open(\"ComplexG/parameter.json\", \"w\") as outfile:\n",
    "    outfile.write(json_object)"
   ]
  },
  {
   "cell_type": "code",
   "execution_count": 25,
   "metadata": {
    "colab": {
     "base_uri": "https://localhost:8080/"
    },
    "id": "R_0hcQznITpC",
    "outputId": "86f09305-568f-4464-c13d-a508b39d2783"
   },
   "outputs": [
    {
     "name": "stdout",
     "output_type": "stream",
     "text": [
      "Iteration running :  100\n",
      "Iteration running :  200\n",
      "Iteration running :  300\n",
      "Iteration running :  400\n",
      "Iteration running :  500\n",
      "Iteration running :  600\n",
      "Iteration running :  700\n",
      "Iteration running :  800\n",
      "Iteration running :  900\n",
      "Iteration running :  1000\n",
      "{'8': 0.221, '9': 0.1909, '0': 0.1714, '4': 0.1544, '6': 0.1351, '7': 0.1338, '1': 0.1149, '5': 0.1104, '3': 0.1082, '12': 0.106}\n",
      "{'10': 0.0432, '2': 0.0847, '11': 0.1039, '12': 0.106, '3': 0.1082, '5': 0.1104, '1': 0.1149, '7': 0.1338, '6': 0.1351, '4': 0.1544}\n"
     ]
    }
   ],
   "source": [
    "!python3 episimmer/main.py ComplexG -np -vul"
   ]
  },
  {
   "cell_type": "markdown",
   "metadata": {
    "id": "eGmrbkhZIXXf"
   },
   "source": [
    "We get the highest agent vulnerability as node '8' because node '8' is responsible for disconnecting the two largest sections of the network. Do note that the graph strcuture is not the only reason. The speed with which the disease spreads and also the initial innfection in the population are big factors in determining the vulnerabilities.  "
   ]
  },
  {
   "cell_type": "markdown",
   "metadata": {
    "id": "jE8nOu6JMxnk"
   },
   "source": [
    "### Disclaimer : These colab tutorials are only for reference and they are in no way representative of the entire functionality of Episimmer. Please look at the [Documentation](https://episimmer.readthedocs.io/en/latest/) for more details."
   ]
  },
  {
   "cell_type": "code",
   "execution_count": 25,
   "metadata": {
    "id": "sVyqK2QCMuFQ"
   },
   "outputs": [],
   "source": []
  }
 ],
 "metadata": {
  "colab": {
   "name": "Tutorial5.ipynb",
   "provenance": []
  },
  "kernelspec": {
   "display_name": "Python 3",
   "language": "python",
   "name": "python3"
  },
  "language_info": {
   "codemirror_mode": {
    "name": "ipython",
    "version": 3
   },
   "file_extension": ".py",
   "mimetype": "text/x-python",
   "name": "python",
   "nbconvert_exporter": "python",
   "pygments_lexer": "ipython3",
   "version": "3.7.3"
  }
 },
 "nbformat": 4,
 "nbformat_minor": 1
}
